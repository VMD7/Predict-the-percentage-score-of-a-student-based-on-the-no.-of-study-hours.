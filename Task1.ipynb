{
  "nbformat": 4,
  "nbformat_minor": 0,
  "metadata": {
    "colab": {
      "name": "Task1.ipynb",
      "provenance": [],
      "collapsed_sections": [
        "2A6QHxu9yAp6",
        "78m-TY18yN24",
        "NwN5BwepyxtN",
        "bV-liH6-1hfe"
      ],
      "authorship_tag": "ABX9TyMl32VbANGrd8ypyK4hDGjs",
      "include_colab_link": true
    },
    "kernelspec": {
      "name": "python3",
      "display_name": "Python 3"
    }
  },
  "cells": [
    {
      "cell_type": "markdown",
      "metadata": {
        "id": "view-in-github",
        "colab_type": "text"
      },
      "source": [
        "<a href=\"https://colab.research.google.com/github/VMD7/Students-Score-Prediction/blob/main/Task1.ipynb\" target=\"_parent\"><img src=\"https://colab.research.google.com/assets/colab-badge.svg\" alt=\"Open In Colab\"/></a>"
      ]
    },
    {
      "cell_type": "markdown",
      "metadata": {
        "id": "xPnHiFbitaud"
      },
      "source": [
        "# **NAME - VIJAY DEVANE**\n",
        "\n",
        "---\n",
        "## **Task 1: Prediction using supervised Machine Learning**\n",
        "### **Predict the percentage of an student based on the no. of study hours.**\n",
        "\n",
        "In this task we have to find the students scores based on their study hours. This is simple regression problem type because it has only two variables. This problem can be solved by using regression libraries or we can make regression algorithm.\n",
        "\n",
        "\n",
        "---\n",
        "\n"
      ]
    },
    {
      "cell_type": "markdown",
      "metadata": {
        "id": "5Bx6YnPGvanj"
      },
      "source": [
        "## **Importing required libraries.**"
      ]
    },
    {
      "cell_type": "code",
      "metadata": {
        "id": "tMiDSa0HdvKj"
      },
      "source": [
        "#Importing requried packages and libraries\n",
        "import pandas as pd\n",
        "import numpy as np\n",
        "import matplotlib.pyplot as plt\n",
        "%matplotlib inline\n",
        "import seaborn as sns\n",
        "from sklearn.model_selection import train_test_split\n",
        "from sklearn.linear_model import LinearRegression\n",
        "from sklearn.metrics import mean_absolute_error,mean_squared_error"
      ],
      "execution_count": 1,
      "outputs": []
    },
    {
      "cell_type": "markdown",
      "metadata": {
        "id": "VfnxHizEv5X7"
      },
      "source": [
        "## **Loading the Dataset**"
      ]
    },
    {
      "cell_type": "code",
      "metadata": {
        "id": "5n-QEqJLhM6q",
        "outputId": "19a72b0e-20c3-4e6b-bd17-8dbbd0588a3d",
        "colab": {
          "base_uri": "https://localhost:8080/"
        }
      },
      "source": [
        "#Loading dataset from remote url\n",
        "url = 'http://bit.ly/w-data'\n",
        "Data = pd.read_csv(url)\n",
        "print('Data loaded successfully')"
      ],
      "execution_count": 2,
      "outputs": [
        {
          "output_type": "stream",
          "text": [
            "Data loaded successfully\n"
          ],
          "name": "stdout"
        }
      ]
    },
    {
      "cell_type": "markdown",
      "metadata": {
        "id": "wZMqLpv2v_Vv"
      },
      "source": [
        "## **Exploratory Data Analysis**"
      ]
    },
    {
      "cell_type": "markdown",
      "metadata": {
        "id": "7CGH720oxibS"
      },
      "source": [
        "### **Top and Bottom Values of Dataset**"
      ]
    },
    {
      "cell_type": "code",
      "metadata": {
        "id": "SelsXoKtjW3h",
        "outputId": "3bc65f50-4351-447a-b055-487b2a3f7228",
        "colab": {
          "base_uri": "https://localhost:8080/",
          "height": 359
        }
      },
      "source": [
        "Data.head(10)"
      ],
      "execution_count": 3,
      "outputs": [
        {
          "output_type": "execute_result",
          "data": {
            "text/html": [
              "<div>\n",
              "<style scoped>\n",
              "    .dataframe tbody tr th:only-of-type {\n",
              "        vertical-align: middle;\n",
              "    }\n",
              "\n",
              "    .dataframe tbody tr th {\n",
              "        vertical-align: top;\n",
              "    }\n",
              "\n",
              "    .dataframe thead th {\n",
              "        text-align: right;\n",
              "    }\n",
              "</style>\n",
              "<table border=\"1\" class=\"dataframe\">\n",
              "  <thead>\n",
              "    <tr style=\"text-align: right;\">\n",
              "      <th></th>\n",
              "      <th>Hours</th>\n",
              "      <th>Scores</th>\n",
              "    </tr>\n",
              "  </thead>\n",
              "  <tbody>\n",
              "    <tr>\n",
              "      <th>0</th>\n",
              "      <td>2.5</td>\n",
              "      <td>21</td>\n",
              "    </tr>\n",
              "    <tr>\n",
              "      <th>1</th>\n",
              "      <td>5.1</td>\n",
              "      <td>47</td>\n",
              "    </tr>\n",
              "    <tr>\n",
              "      <th>2</th>\n",
              "      <td>3.2</td>\n",
              "      <td>27</td>\n",
              "    </tr>\n",
              "    <tr>\n",
              "      <th>3</th>\n",
              "      <td>8.5</td>\n",
              "      <td>75</td>\n",
              "    </tr>\n",
              "    <tr>\n",
              "      <th>4</th>\n",
              "      <td>3.5</td>\n",
              "      <td>30</td>\n",
              "    </tr>\n",
              "    <tr>\n",
              "      <th>5</th>\n",
              "      <td>1.5</td>\n",
              "      <td>20</td>\n",
              "    </tr>\n",
              "    <tr>\n",
              "      <th>6</th>\n",
              "      <td>9.2</td>\n",
              "      <td>88</td>\n",
              "    </tr>\n",
              "    <tr>\n",
              "      <th>7</th>\n",
              "      <td>5.5</td>\n",
              "      <td>60</td>\n",
              "    </tr>\n",
              "    <tr>\n",
              "      <th>8</th>\n",
              "      <td>8.3</td>\n",
              "      <td>81</td>\n",
              "    </tr>\n",
              "    <tr>\n",
              "      <th>9</th>\n",
              "      <td>2.7</td>\n",
              "      <td>25</td>\n",
              "    </tr>\n",
              "  </tbody>\n",
              "</table>\n",
              "</div>"
            ],
            "text/plain": [
              "   Hours  Scores\n",
              "0    2.5      21\n",
              "1    5.1      47\n",
              "2    3.2      27\n",
              "3    8.5      75\n",
              "4    3.5      30\n",
              "5    1.5      20\n",
              "6    9.2      88\n",
              "7    5.5      60\n",
              "8    8.3      81\n",
              "9    2.7      25"
            ]
          },
          "metadata": {
            "tags": []
          },
          "execution_count": 3
        }
      ]
    },
    {
      "cell_type": "code",
      "metadata": {
        "id": "M8dSVcVZxyY-",
        "outputId": "be757563-0406-44ad-d873-87e25f179eb2",
        "colab": {
          "base_uri": "https://localhost:8080/",
          "height": 204
        }
      },
      "source": [
        "Data.tail()"
      ],
      "execution_count": 4,
      "outputs": [
        {
          "output_type": "execute_result",
          "data": {
            "text/html": [
              "<div>\n",
              "<style scoped>\n",
              "    .dataframe tbody tr th:only-of-type {\n",
              "        vertical-align: middle;\n",
              "    }\n",
              "\n",
              "    .dataframe tbody tr th {\n",
              "        vertical-align: top;\n",
              "    }\n",
              "\n",
              "    .dataframe thead th {\n",
              "        text-align: right;\n",
              "    }\n",
              "</style>\n",
              "<table border=\"1\" class=\"dataframe\">\n",
              "  <thead>\n",
              "    <tr style=\"text-align: right;\">\n",
              "      <th></th>\n",
              "      <th>Hours</th>\n",
              "      <th>Scores</th>\n",
              "    </tr>\n",
              "  </thead>\n",
              "  <tbody>\n",
              "    <tr>\n",
              "      <th>20</th>\n",
              "      <td>2.7</td>\n",
              "      <td>30</td>\n",
              "    </tr>\n",
              "    <tr>\n",
              "      <th>21</th>\n",
              "      <td>4.8</td>\n",
              "      <td>54</td>\n",
              "    </tr>\n",
              "    <tr>\n",
              "      <th>22</th>\n",
              "      <td>3.8</td>\n",
              "      <td>35</td>\n",
              "    </tr>\n",
              "    <tr>\n",
              "      <th>23</th>\n",
              "      <td>6.9</td>\n",
              "      <td>76</td>\n",
              "    </tr>\n",
              "    <tr>\n",
              "      <th>24</th>\n",
              "      <td>7.8</td>\n",
              "      <td>86</td>\n",
              "    </tr>\n",
              "  </tbody>\n",
              "</table>\n",
              "</div>"
            ],
            "text/plain": [
              "    Hours  Scores\n",
              "20    2.7      30\n",
              "21    4.8      54\n",
              "22    3.8      35\n",
              "23    6.9      76\n",
              "24    7.8      86"
            ]
          },
          "metadata": {
            "tags": []
          },
          "execution_count": 4
        }
      ]
    },
    {
      "cell_type": "markdown",
      "metadata": {
        "id": "zcbR3ksyxp81"
      },
      "source": [
        "### **Shape of Data**"
      ]
    },
    {
      "cell_type": "code",
      "metadata": {
        "id": "LBoaBzdUks5E",
        "outputId": "8b93ecf7-65d9-4fb6-cf2d-a2698e1d2594",
        "colab": {
          "base_uri": "https://localhost:8080/"
        }
      },
      "source": [
        "Data.shape"
      ],
      "execution_count": 5,
      "outputs": [
        {
          "output_type": "execute_result",
          "data": {
            "text/plain": [
              "(25, 2)"
            ]
          },
          "metadata": {
            "tags": []
          },
          "execution_count": 5
        }
      ]
    },
    {
      "cell_type": "markdown",
      "metadata": {
        "id": "2A6QHxu9yAp6"
      },
      "source": [
        "### **Data Information**"
      ]
    },
    {
      "cell_type": "code",
      "metadata": {
        "id": "rExVBoF1yJpQ",
        "outputId": "c19def7d-e961-45ea-d8ae-cd88c4e915b0",
        "colab": {
          "base_uri": "https://localhost:8080/"
        }
      },
      "source": [
        "Data.info()"
      ],
      "execution_count": 6,
      "outputs": [
        {
          "output_type": "stream",
          "text": [
            "<class 'pandas.core.frame.DataFrame'>\n",
            "RangeIndex: 25 entries, 0 to 24\n",
            "Data columns (total 2 columns):\n",
            " #   Column  Non-Null Count  Dtype  \n",
            "---  ------  --------------  -----  \n",
            " 0   Hours   25 non-null     float64\n",
            " 1   Scores  25 non-null     int64  \n",
            "dtypes: float64(1), int64(1)\n",
            "memory usage: 528.0 bytes\n"
          ],
          "name": "stdout"
        }
      ]
    },
    {
      "cell_type": "markdown",
      "metadata": {
        "id": "GNnamwh9GAuU"
      },
      "source": [
        "From the above result we can clearly see that there is no null values and some values are int and sore are floats. So, while taking the input from user we have to take values as a float number"
      ]
    },
    {
      "cell_type": "markdown",
      "metadata": {
        "id": "78m-TY18yN24"
      },
      "source": [
        "### **Statistical Properties of Dataset**"
      ]
    },
    {
      "cell_type": "code",
      "metadata": {
        "id": "z-Ja32lIyT0F",
        "outputId": "f943fc25-a9bb-4dcd-b5df-54927b74f143",
        "colab": {
          "base_uri": "https://localhost:8080/",
          "height": 297
        }
      },
      "source": [
        "Data.describe()"
      ],
      "execution_count": 7,
      "outputs": [
        {
          "output_type": "execute_result",
          "data": {
            "text/html": [
              "<div>\n",
              "<style scoped>\n",
              "    .dataframe tbody tr th:only-of-type {\n",
              "        vertical-align: middle;\n",
              "    }\n",
              "\n",
              "    .dataframe tbody tr th {\n",
              "        vertical-align: top;\n",
              "    }\n",
              "\n",
              "    .dataframe thead th {\n",
              "        text-align: right;\n",
              "    }\n",
              "</style>\n",
              "<table border=\"1\" class=\"dataframe\">\n",
              "  <thead>\n",
              "    <tr style=\"text-align: right;\">\n",
              "      <th></th>\n",
              "      <th>Hours</th>\n",
              "      <th>Scores</th>\n",
              "    </tr>\n",
              "  </thead>\n",
              "  <tbody>\n",
              "    <tr>\n",
              "      <th>count</th>\n",
              "      <td>25.000000</td>\n",
              "      <td>25.000000</td>\n",
              "    </tr>\n",
              "    <tr>\n",
              "      <th>mean</th>\n",
              "      <td>5.012000</td>\n",
              "      <td>51.480000</td>\n",
              "    </tr>\n",
              "    <tr>\n",
              "      <th>std</th>\n",
              "      <td>2.525094</td>\n",
              "      <td>25.286887</td>\n",
              "    </tr>\n",
              "    <tr>\n",
              "      <th>min</th>\n",
              "      <td>1.100000</td>\n",
              "      <td>17.000000</td>\n",
              "    </tr>\n",
              "    <tr>\n",
              "      <th>25%</th>\n",
              "      <td>2.700000</td>\n",
              "      <td>30.000000</td>\n",
              "    </tr>\n",
              "    <tr>\n",
              "      <th>50%</th>\n",
              "      <td>4.800000</td>\n",
              "      <td>47.000000</td>\n",
              "    </tr>\n",
              "    <tr>\n",
              "      <th>75%</th>\n",
              "      <td>7.400000</td>\n",
              "      <td>75.000000</td>\n",
              "    </tr>\n",
              "    <tr>\n",
              "      <th>max</th>\n",
              "      <td>9.200000</td>\n",
              "      <td>95.000000</td>\n",
              "    </tr>\n",
              "  </tbody>\n",
              "</table>\n",
              "</div>"
            ],
            "text/plain": [
              "           Hours     Scores\n",
              "count  25.000000  25.000000\n",
              "mean    5.012000  51.480000\n",
              "std     2.525094  25.286887\n",
              "min     1.100000  17.000000\n",
              "25%     2.700000  30.000000\n",
              "50%     4.800000  47.000000\n",
              "75%     7.400000  75.000000\n",
              "max     9.200000  95.000000"
            ]
          },
          "metadata": {
            "tags": []
          },
          "execution_count": 7
        }
      ]
    },
    {
      "cell_type": "markdown",
      "metadata": {
        "id": "NwN5BwepyxtN"
      },
      "source": [
        "### **Unique Values**"
      ]
    },
    {
      "cell_type": "code",
      "metadata": {
        "id": "Z0r6Y66VlGZb",
        "outputId": "a4ff24bb-84c6-41cb-9a8c-733829d8ef25",
        "colab": {
          "base_uri": "https://localhost:8080/"
        }
      },
      "source": [
        "Data.nunique()"
      ],
      "execution_count": 8,
      "outputs": [
        {
          "output_type": "execute_result",
          "data": {
            "text/plain": [
              "Hours     23\n",
              "Scores    23\n",
              "dtype: int64"
            ]
          },
          "metadata": {
            "tags": []
          },
          "execution_count": 8
        }
      ]
    },
    {
      "cell_type": "markdown",
      "metadata": {
        "id": "CxQwZngbHC6F"
      },
      "source": [
        "There are 23 unique values in this dataset. "
      ]
    },
    {
      "cell_type": "markdown",
      "metadata": {
        "id": "bV-liH6-1hfe"
      },
      "source": [
        "### **Data Visualization**\n",
        "\n",
        "This is also an important part. By visulizing the data one can see which relation is best describe for that data."
      ]
    },
    {
      "cell_type": "code",
      "metadata": {
        "id": "HNzQYOXH1lLE",
        "outputId": "16c64101-3c46-4948-d241-8de3c7608f85",
        "colab": {
          "base_uri": "https://localhost:8080/",
          "height": 295
        }
      },
      "source": [
        "Data.plot(x=\"Hours\", y=\"Scores\", style='*', color='red')\n",
        "plt.title('Hours vs Percentage')  \n",
        "plt.xlabel('Hours Studied')  \n",
        "plt.ylabel('Percentage Score')  \n",
        "plt.show()"
      ],
      "execution_count": 9,
      "outputs": [
        {
          "output_type": "display_data",
          "data": {
            "image/png": "[encoded data removed]",
            "text/plain": [
              "<Figure size 432x288 with 1 Axes>"
            ]
          },
          "metadata": {
            "tags": [],
            "needs_background": "light"
          }
        }
      ]
    },
    {
      "cell_type": "code",
      "metadata": {
        "id": "catEIFfbzR5d",
        "outputId": "fb528134-1cc0-4882-f694-bc37e0eebe8c",
        "colab": {
          "base_uri": "https://localhost:8080/",
          "height": 286
        }
      },
      "source": [
        "#Plotting correlation between feature and target\n",
        "sns.heatmap(Data.corr(), annot = True, linecolor='black')"
      ],
      "execution_count": 10,
      "outputs": [
        {
          "output_type": "execute_result",
          "data": {
            "text/plain": [
              "<matplotlib.axes._subplots.AxesSubplot at 0x7fb26f8506d8>"
            ]
          },
          "metadata": {
            "tags": []
          },
          "execution_count": 10
        },
        {
          "output_type": "display_data",
          "data": {
            "image/png": "[encoded data removed]",
            "text/plain": [
              "<Figure size 432x288 with 2 Axes>"
            ]
          },
          "metadata": {
            "tags": [],
            "needs_background": "light"
          }
        }
      ]
    },
    {
      "cell_type": "markdown",
      "metadata": {
        "id": "Pdo2dIh2IPYb"
      },
      "source": [
        "From this one can clearly see that there is strong positive correlation."
      ]
    },
    {
      "cell_type": "code",
      "metadata": {
        "id": "OuQX5is52EQ8",
        "outputId": "a4b7e77a-308e-4eab-cee8-f2e885b3cea4",
        "colab": {
          "base_uri": "https://localhost:8080/",
          "height": 295
        }
      },
      "source": [
        "#Plotting regression plot to confirm above relationship between feature and target.\n",
        "sns.regplot(x=Data['Hours'],y=Data['Scores'],data=Data, color='red')\n",
        "plt.title('Study Hours vs Percentage Scores')\n",
        "plt.xlabel('Study Hours')\n",
        "plt.ylabel('Percentage')\n",
        "plt.show()"
      ],
      "execution_count": 11,
      "outputs": [
        {
          "output_type": "display_data",
          "data": {
            "image/png": "[encoded data removed]",
            "text/plain": [
              "<Figure size 432x288 with 1 Axes>"
            ]
          },
          "metadata": {
            "tags": [],
            "needs_background": "light"
          }
        }
      ]
    },
    {
      "cell_type": "markdown",
      "metadata": {
        "id": "EsqFqRjpItFL"
      },
      "source": [
        "There is strong positive linear relation between the number of hours studied and percentage of score.\n"
      ]
    },
    {
      "cell_type": "markdown",
      "metadata": {
        "id": "AZuMQZP22yRO"
      },
      "source": [
        "## **Data Prepration** "
      ]
    },
    {
      "cell_type": "markdown",
      "metadata": {
        "id": "oTlpCckWJM3f"
      },
      "source": [
        "### **Dividing Data**"
      ]
    },
    {
      "cell_type": "markdown",
      "metadata": {
        "id": "fJKPNnYOI9yw"
      },
      "source": [
        "Dividing data as input and output."
      ]
    },
    {
      "cell_type": "code",
      "metadata": {
        "id": "UcZXLRnlmm3r",
        "outputId": "2a67c10c-f5e9-4012-95b3-d3727c9cb6e8",
        "colab": {
          "base_uri": "https://localhost:8080/"
        }
      },
      "source": [
        "x = Data.iloc[:, :-1].values  #Attribute\n",
        "y = Data.iloc[:, 1].values  #Labels\n",
        "print(\"Hours Studied = \",x[0:5])\n",
        "print(\"Scores Obtained = \",y[0:5])"
      ],
      "execution_count": 12,
      "outputs": [
        {
          "output_type": "stream",
          "text": [
            "Hours Studied =  [[2.5]\n",
            " [5.1]\n",
            " [3.2]\n",
            " [8.5]\n",
            " [3.5]]\n",
            "Scores Obtained =  [21 47 27 75 30]\n"
          ],
          "name": "stdout"
        }
      ]
    },
    {
      "cell_type": "markdown",
      "metadata": {
        "id": "fHvrSm5ZJRmY"
      },
      "source": [
        "### **Train-Test Split**\n",
        "We dont have extra data for testing. So, we have to split the given data for training as well as testing. One can done this using \"train_test_split()\" inbuilt function of Scikit-Learn library. We gave the est size 24%."
      ]
    },
    {
      "cell_type": "code",
      "metadata": {
        "id": "iViL73jnnSF8"
      },
      "source": [
        "x_train,x_test,y_train,y_test = train_test_split(x,y,test_size=0.24,random_state =42 )"
      ],
      "execution_count": 13,
      "outputs": []
    },
    {
      "cell_type": "markdown",
      "metadata": {
        "id": "oWmQfTd7KXBj"
      },
      "source": [
        "Now we have training and testing dataset."
      ]
    },
    {
      "cell_type": "markdown",
      "metadata": {
        "id": "9xcFK82F5hGp"
      },
      "source": [
        "## **Training**"
      ]
    },
    {
      "cell_type": "markdown",
      "metadata": {
        "id": "gmqApxhXKoqX"
      },
      "source": [
        "We are directly using \"LinearRegression()\" from Scikit-Learn library. "
      ]
    },
    {
      "cell_type": "code",
      "metadata": {
        "id": "zJAAQm915sP5",
        "outputId": "d70bd5bb-6e2b-4057-9e33-c1fcc576d52e",
        "colab": {
          "base_uri": "https://localhost:8080/"
        }
      },
      "source": [
        "regressor = LinearRegression()  \n",
        "regressor.fit(x_train, y_train) \n",
        "\n",
        "print(\"Training complete.\")"
      ],
      "execution_count": 14,
      "outputs": [
        {
          "output_type": "stream",
          "text": [
            "Training complete.\n"
          ],
          "name": "stdout"
        }
      ]
    },
    {
      "cell_type": "markdown",
      "metadata": {
        "id": "p-hK3E8WK4Ow"
      },
      "source": [
        "In liear regression model the equation of the line is \"Y = aX + c\" where a is coefficient and c is intersept. After training our model we got most accurate values of coefficient and intersept."
      ]
    },
    {
      "cell_type": "code",
      "metadata": {
        "id": "0LaWP3NB6DaA",
        "outputId": "b9eccac1-7753-46dc-a391-6af99afc7a53",
        "colab": {
          "base_uri": "https://localhost:8080/"
        }
      },
      "source": [
        "print (\"Coefficient -\", regressor.coef_)\n",
        "print (\"Intercept - \", regressor.intercept_)"
      ],
      "execution_count": 15,
      "outputs": [
        {
          "output_type": "stream",
          "text": [
            "Coefficient - [9.60328059]\n",
            "Intercept -  3.4359696365345442\n"
          ],
          "name": "stdout"
        }
      ]
    },
    {
      "cell_type": "markdown",
      "metadata": {
        "id": "mGWje94XLbe-"
      },
      "source": [
        "These Coefficient and Intersept values are used to predict the result."
      ]
    },
    {
      "cell_type": "code",
      "metadata": {
        "id": "5MXV9e9D6JLA",
        "outputId": "23c65a5e-d62e-45ca-d6c7-83642294024d",
        "colab": {
          "base_uri": "https://localhost:8080/",
          "height": 265
        }
      },
      "source": [
        "# Plotting the regression line\n",
        "line = regressor.coef_*x + regressor.intercept_\n",
        "\n",
        "# Plotting for the test data\n",
        "plt.scatter(x, y)\n",
        "plt.plot(x, line,color='red', label='Regression Line')\n",
        "plt.legend()\n",
        "plt.show()"
      ],
      "execution_count": 16,
      "outputs": [
        {
          "output_type": "display_data",
          "data": {
            "image/png": "[encoded data removed]",
            "text/plain": [
              "<Figure size 432x288 with 1 Axes>"
            ]
          },
          "metadata": {
            "tags": [],
            "needs_background": "light"
          }
        }
      ]
    },
    {
      "cell_type": "markdown",
      "metadata": {
        "id": "HV5cWeFwL1vv"
      },
      "source": [
        "From above graph one can clearly see that the regression line goes nearly from all points. Which means our model is trained accurately."
      ]
    },
    {
      "cell_type": "markdown",
      "metadata": {
        "id": "kTAX6n5J6cTn"
      },
      "source": [
        "## **Prediction**"
      ]
    },
    {
      "cell_type": "code",
      "metadata": {
        "id": "ILuupX0W6kD2",
        "outputId": "d23cb83c-89ca-4dd8-9729-7a7026c11898",
        "colab": {
          "base_uri": "https://localhost:8080/"
        }
      },
      "source": [
        "print(x_test) # Data for test\n",
        "y_pred = regressor.predict(x_test) #Predicted data"
      ],
      "execution_count": 17,
      "outputs": [
        {
          "output_type": "stream",
          "text": [
            "[[8.3]\n",
            " [2.5]\n",
            " [2.5]\n",
            " [6.9]\n",
            " [5.9]\n",
            " [2.7]]\n"
          ],
          "name": "stdout"
        }
      ]
    },
    {
      "cell_type": "code",
      "metadata": {
        "id": "GF5I-lQ460nP",
        "outputId": "e30d460e-094f-4628-a660-0a3a1941d4d1",
        "colab": {
          "base_uri": "https://localhost:8080/",
          "height": 235
        }
      },
      "source": [
        "#Comparing the original and predicted values\n",
        "df=pd.DataFrame({'Original':y_test,'Predicted':y_pred})\n",
        "df"
      ],
      "execution_count": 18,
      "outputs": [
        {
          "output_type": "execute_result",
          "data": {
            "text/html": [
              "<div>\n",
              "<style scoped>\n",
              "    .dataframe tbody tr th:only-of-type {\n",
              "        vertical-align: middle;\n",
              "    }\n",
              "\n",
              "    .dataframe tbody tr th {\n",
              "        vertical-align: top;\n",
              "    }\n",
              "\n",
              "    .dataframe thead th {\n",
              "        text-align: right;\n",
              "    }\n",
              "</style>\n",
              "<table border=\"1\" class=\"dataframe\">\n",
              "  <thead>\n",
              "    <tr style=\"text-align: right;\">\n",
              "      <th></th>\n",
              "      <th>Original</th>\n",
              "      <th>Predicted</th>\n",
              "    </tr>\n",
              "  </thead>\n",
              "  <tbody>\n",
              "    <tr>\n",
              "      <th>0</th>\n",
              "      <td>81</td>\n",
              "      <td>83.143199</td>\n",
              "    </tr>\n",
              "    <tr>\n",
              "      <th>1</th>\n",
              "      <td>30</td>\n",
              "      <td>27.444171</td>\n",
              "    </tr>\n",
              "    <tr>\n",
              "      <th>2</th>\n",
              "      <td>21</td>\n",
              "      <td>27.444171</td>\n",
              "    </tr>\n",
              "    <tr>\n",
              "      <th>3</th>\n",
              "      <td>76</td>\n",
              "      <td>69.698606</td>\n",
              "    </tr>\n",
              "    <tr>\n",
              "      <th>4</th>\n",
              "      <td>62</td>\n",
              "      <td>60.095325</td>\n",
              "    </tr>\n",
              "    <tr>\n",
              "      <th>5</th>\n",
              "      <td>25</td>\n",
              "      <td>29.364827</td>\n",
              "    </tr>\n",
              "  </tbody>\n",
              "</table>\n",
              "</div>"
            ],
            "text/plain": [
              "   Original  Predicted\n",
              "0        81  83.143199\n",
              "1        30  27.444171\n",
              "2        21  27.444171\n",
              "3        76  69.698606\n",
              "4        62  60.095325\n",
              "5        25  29.364827"
            ]
          },
          "metadata": {
            "tags": []
          },
          "execution_count": 18
        }
      ]
    },
    {
      "cell_type": "code",
      "metadata": {
        "id": "tOISGT_-7m5u",
        "outputId": "ef4d3c82-7e0c-438b-a701-fb70e8303b91",
        "colab": {
          "base_uri": "https://localhost:8080/"
        }
      },
      "source": [
        "#Training and Testing Scores\n",
        "print(\"Training Score:\",regressor.score(x_train,y_train))\n",
        "print(\"Test Score:\",regressor.score(x_test,y_test))"
      ],
      "execution_count": 19,
      "outputs": [
        {
          "output_type": "stream",
          "text": [
            "Training Score: 0.9475373814076595\n",
            "Test Score: 0.9684201924053587\n"
          ],
          "name": "stdout"
        }
      ]
    },
    {
      "cell_type": "markdown",
      "metadata": {
        "id": "PwV6md3sNYus"
      },
      "source": [
        "From this one can cleary see that we got very good accuracy."
      ]
    },
    {
      "cell_type": "code",
      "metadata": {
        "id": "TJIfCfMY7r9V",
        "outputId": "ed93cbc1-c594-4a21-f6ef-958c427f6693",
        "colab": {
          "base_uri": "https://localhost:8080/",
          "height": 370
        }
      },
      "source": [
        "#plot of original and predicted values\n",
        "df.plot(kind='bar',figsize=(8,6))\n",
        "plt.show()"
      ],
      "execution_count": 20,
      "outputs": [
        {
          "output_type": "display_data",
          "data": {
            "image/png": "[encoded data removed]",
            "text/plain": [
              "<Figure size 576x432 with 1 Axes>"
            ]
          },
          "metadata": {
            "tags": [],
            "needs_background": "light"
          }
        }
      ]
    },
    {
      "cell_type": "markdown",
      "metadata": {
        "id": "hd5ZnIBsNlSO"
      },
      "source": [
        "## **Testing**"
      ]
    },
    {
      "cell_type": "markdown",
      "metadata": {
        "id": "eL0HV3UsNtPL"
      },
      "source": [
        "Just give the value of Study hours to know the score."
      ]
    },
    {
      "cell_type": "code",
      "metadata": {
        "id": "hBGZYSxD7-0V",
        "outputId": "a88f765b-df05-461d-da46-45f3e347ba70",
        "colab": {
          "base_uri": "https://localhost:8080/"
        }
      },
      "source": [
        "# Testing with some new data\n",
        "hours = float(input(\"Enter the Study Hours : \"))\n",
        "test = np.array([hours])\n",
        "test = test.reshape(-1, 1)\n",
        "own_pred = regressor.predict(test)\n",
        "print(\"No of Hours = {}\".format(hours))\n",
        "print(\"Predicted Score = {}\".format(own_pred[0]))"
      ],
      "execution_count": 21,
      "outputs": [
        {
          "output_type": "stream",
          "text": [
            "Enter the Study Hours : 9.5\n",
            "No of Hours = 9.5\n",
            "Predicted Score = 94.6671352386642\n"
          ],
          "name": "stdout"
        }
      ]
    },
    {
      "cell_type": "markdown",
      "metadata": {
        "id": "2uLlaYwxNz_b"
      },
      "source": [
        "## **Evaluating the model**"
      ]
    },
    {
      "cell_type": "code",
      "metadata": {
        "id": "AA-EKbTB9hmv",
        "outputId": "c82671fd-d3e2-4de9-954d-d45d9f195bdb",
        "colab": {
          "base_uri": "https://localhost:8080/"
        }
      },
      "source": [
        "from sklearn import metrics  \n",
        "print('Mean Absolute Error:',metrics.mean_absolute_error(y_test, y_pred)) \n",
        "print('Mean Squared Error:', metrics.mean_squared_error(y_test, y_pred))\n",
        "print('Root Mean Squared Error:', np.sqrt(metrics.mean_squared_error(y_test, y_pred)))\n",
        "print('R^2:', metrics.r2_score(y_test, y_pred))"
      ],
      "execution_count": 22,
      "outputs": [
        {
          "output_type": "stream",
          "text": [
            "Mean Absolute Error: 3.9523491564239777\n",
            "Mean Squared Error: 19.173329294335417\n",
            "Root Mean Squared Error: 4.37873603844025\n",
            "R^2: 0.9684201924053587\n"
          ],
          "name": "stdout"
        }
      ]
    },
    {
      "cell_type": "markdown",
      "metadata": {
        "id": "nlagFACiOV5e"
      },
      "source": [
        "From this one can clearly see that our R-2 score is 0.9684 which is very good. \n",
        "\n",
        "It can also be say that model accuracy is 96.84%. \n",
        "\n",
        "This means the algoritm of our model is good. "
      ]
    },
    {
      "cell_type": "markdown",
      "metadata": {
        "id": "rD7_D2mZPaIm"
      },
      "source": [
        "## **Thank You!**"
      ]
    }
  ]
}